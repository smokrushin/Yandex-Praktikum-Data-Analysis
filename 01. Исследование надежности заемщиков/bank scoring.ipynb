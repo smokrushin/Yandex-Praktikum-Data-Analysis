{
 "cells": [
  {
   "cell_type": "markdown",
   "metadata": {},
   "source": [
    "## Исследование надёжности заёмщиков\n",
    "\n",
    "Заказчик — кредитный отдел банка. Нужно разобраться, влияет ли семейное положение и количество детей клиента на факт погашения кредита в срок. Входные данные от банка — статистика о платёжеспособности клиентов.\n",
    "\n",
    "Результаты исследования будут учтены при построении модели **кредитного скоринга** — специальной системы, которая оценивает способность потенциального заёмщика вернуть кредит банку."
   ]
  },
  {
   "cell_type": "markdown",
   "metadata": {},
   "source": [
    "### Общая информация"
   ]
  },
  {
   "cell_type": "markdown",
   "metadata": {},
   "source": [
    "Откроем файл, визуально оценим первые 10 строк и общие данные о таблице.\n",
    "Информация о содержимом столбцов:\n",
    "- children — количество детей в семье\n",
    "- days_employed — общий трудовой стаж в днях\n",
    "- dob_years — возраст клиента в годах\n",
    "- education — уровень образования клиента\n",
    "- education_id — идентификатор уровня образования\n",
    "- family_status — семейное положение\n",
    "- family_status_id — идентификатор семейного положения\n",
    "- gender — пол клиента\n",
    "- income_type — тип занятости\n",
    "- debt — имел ли задолженность по возврату кредитов\n",
    "- total_income — ежемесячный доход\n",
    "- purpose — цель получения кредита"
   ]
  },
  {
   "cell_type": "code",
   "execution_count": 1,
   "metadata": {
    "scrolled": false
   },
   "outputs": [
    {
     "name": "stdout",
     "output_type": "stream",
     "text": [
      "   children  days_employed  dob_years education  education_id  \\\n",
      "0         1   -8437.673028         42    высшее             0   \n",
      "1         1   -4024.803754         36   среднее             1   \n",
      "2         0   -5623.422610         33   Среднее             1   \n",
      "3         3   -4124.747207         32   среднее             1   \n",
      "4         0  340266.072047         53   среднее             1   \n",
      "5         0    -926.185831         27    высшее             0   \n",
      "6         0   -2879.202052         43    высшее             0   \n",
      "7         0    -152.779569         50   СРЕДНЕЕ             1   \n",
      "8         2   -6929.865299         35    ВЫСШЕЕ             0   \n",
      "9         0   -2188.756445         41   среднее             1   \n",
      "\n",
      "      family_status  family_status_id gender income_type  debt   total_income  \\\n",
      "0   женат / замужем                 0      F   сотрудник     0  253875.639453   \n",
      "1   женат / замужем                 0      F   сотрудник     0  112080.014102   \n",
      "2   женат / замужем                 0      M   сотрудник     0  145885.952297   \n",
      "3   женат / замужем                 0      M   сотрудник     0  267628.550329   \n",
      "4  гражданский брак                 1      F   пенсионер     0  158616.077870   \n",
      "5  гражданский брак                 1      M   компаньон     0  255763.565419   \n",
      "6   женат / замужем                 0      F   компаньон     0  240525.971920   \n",
      "7   женат / замужем                 0      M   сотрудник     0  135823.934197   \n",
      "8  гражданский брак                 1      F   сотрудник     0   95856.832424   \n",
      "9   женат / замужем                 0      M   сотрудник     0  144425.938277   \n",
      "\n",
      "                      purpose  \n",
      "0               покупка жилья  \n",
      "1     приобретение автомобиля  \n",
      "2               покупка жилья  \n",
      "3  дополнительное образование  \n",
      "4             сыграть свадьбу  \n",
      "5               покупка жилья  \n",
      "6           операции с жильем  \n",
      "7                 образование  \n",
      "8       на проведение свадьбы  \n",
      "9     покупка жилья для семьи  \n",
      "<class 'pandas.core.frame.DataFrame'>\n",
      "RangeIndex: 21525 entries, 0 to 21524\n",
      "Data columns (total 12 columns):\n",
      "children            21525 non-null int64\n",
      "days_employed       19351 non-null float64\n",
      "dob_years           21525 non-null int64\n",
      "education           21525 non-null object\n",
      "education_id        21525 non-null int64\n",
      "family_status       21525 non-null object\n",
      "family_status_id    21525 non-null int64\n",
      "gender              21525 non-null object\n",
      "income_type         21525 non-null object\n",
      "debt                21525 non-null int64\n",
      "total_income        19351 non-null float64\n",
      "purpose             21525 non-null object\n",
      "dtypes: float64(2), int64(5), object(5)\n",
      "memory usage: 2.0+ MB\n"
     ]
    }
   ],
   "source": [
    "import pandas as pd\n",
    "data = pd.read_csv('/datasets/data.csv')\n",
    "print(data.head(10))\n",
    "data.info()"
   ]
  },
  {
   "cell_type": "markdown",
   "metadata": {},
   "source": [
    "Оценим разнообразие значений, содержащихся в каждом из столбцов при помощи метода value_counts()"
   ]
  },
  {
   "cell_type": "code",
   "execution_count": 2,
   "metadata": {
    "scrolled": false
   },
   "outputs": [
    {
     "name": "stdout",
     "output_type": "stream",
     "text": [
      " 0     14149\n",
      " 1      4818\n",
      " 2      2055\n",
      " 3       330\n",
      " 20       76\n",
      "-1        47\n",
      " 4        41\n",
      " 5         9\n",
      "Name: children, dtype: int64\n",
      "-986.927316     1\n",
      "-7026.359174    1\n",
      "-4236.274243    1\n",
      "-6620.396473    1\n",
      "-1238.560080    1\n",
      "               ..\n",
      "-2849.351119    1\n",
      "-5619.328204    1\n",
      "-448.829898     1\n",
      "-1687.038672    1\n",
      "-582.538413     1\n",
      "Name: days_employed, Length: 19351, dtype: int64\n",
      "35    617\n",
      "40    609\n",
      "41    607\n",
      "34    603\n",
      "38    598\n",
      "42    597\n",
      "33    581\n",
      "39    573\n",
      "31    560\n",
      "36    555\n",
      "44    547\n",
      "29    545\n",
      "30    540\n",
      "48    538\n",
      "37    537\n",
      "50    514\n",
      "43    513\n",
      "32    510\n",
      "49    508\n",
      "28    503\n",
      "45    497\n",
      "27    493\n",
      "56    487\n",
      "52    484\n",
      "47    480\n",
      "54    479\n",
      "46    475\n",
      "58    461\n",
      "57    460\n",
      "53    459\n",
      "51    448\n",
      "59    444\n",
      "55    443\n",
      "26    408\n",
      "60    377\n",
      "25    357\n",
      "61    355\n",
      "62    352\n",
      "63    269\n",
      "64    265\n",
      "24    264\n",
      "23    254\n",
      "65    194\n",
      "66    183\n",
      "22    183\n",
      "67    167\n",
      "21    111\n",
      "0     101\n",
      "68     99\n",
      "69     85\n",
      "70     65\n",
      "71     58\n",
      "20     51\n",
      "72     33\n",
      "19     14\n",
      "73      8\n",
      "74      6\n",
      "75      1\n",
      "Name: dob_years, dtype: int64\n",
      "среднее                13750\n",
      "высшее                  4718\n",
      "СРЕДНЕЕ                  772\n",
      "Среднее                  711\n",
      "неоконченное высшее      668\n",
      "ВЫСШЕЕ                   274\n",
      "Высшее                   268\n",
      "начальное                250\n",
      "Неоконченное высшее       47\n",
      "НЕОКОНЧЕННОЕ ВЫСШЕЕ       29\n",
      "НАЧАЛЬНОЕ                 17\n",
      "Начальное                 15\n",
      "ученая степень             4\n",
      "УЧЕНАЯ СТЕПЕНЬ             1\n",
      "Ученая степень             1\n",
      "Name: education, dtype: int64\n",
      "1    15233\n",
      "0     5260\n",
      "2      744\n",
      "3      282\n",
      "4        6\n",
      "Name: education_id, dtype: int64\n",
      "женат / замужем          12380\n",
      "гражданский брак          4177\n",
      "Не женат / не замужем     2813\n",
      "в разводе                 1195\n",
      "вдовец / вдова             960\n",
      "Name: family_status, dtype: int64\n",
      "0    12380\n",
      "1     4177\n",
      "4     2813\n",
      "3     1195\n",
      "2      960\n",
      "Name: family_status_id, dtype: int64\n",
      "F      14236\n",
      "M       7288\n",
      "XNA        1\n",
      "Name: gender, dtype: int64\n",
      "сотрудник          11119\n",
      "компаньон           5085\n",
      "пенсионер           3856\n",
      "госслужащий         1459\n",
      "предприниматель        2\n",
      "безработный            2\n",
      "студент                1\n",
      "в декрете              1\n",
      "Name: income_type, dtype: int64\n",
      "0    19784\n",
      "1     1741\n",
      "Name: debt, dtype: int64\n",
      "112874.418757    1\n",
      "133912.272223    1\n",
      "182036.676828    1\n",
      "122421.963500    1\n",
      "198271.837248    1\n",
      "                ..\n",
      "133299.194693    1\n",
      "115080.782380    1\n",
      "84896.781597     1\n",
      "153838.839212    1\n",
      "150014.128510    1\n",
      "Name: total_income, Length: 19351, dtype: int64\n",
      "свадьба                                   797\n",
      "на проведение свадьбы                     777\n",
      "сыграть свадьбу                           774\n",
      "операции с недвижимостью                  676\n",
      "покупка коммерческой недвижимости         664\n",
      "операции с жильем                         653\n",
      "покупка жилья для сдачи                   653\n",
      "операции с коммерческой недвижимостью     651\n",
      "жилье                                     647\n",
      "покупка жилья                             647\n",
      "покупка жилья для семьи                   641\n",
      "строительство собственной недвижимости    635\n",
      "недвижимость                              634\n",
      "операции со своей недвижимостью           630\n",
      "строительство жилой недвижимости          626\n",
      "покупка недвижимости                      624\n",
      "покупка своего жилья                      620\n",
      "строительство недвижимости                620\n",
      "ремонт жилью                              612\n",
      "покупка жилой недвижимости                607\n",
      "на покупку своего автомобиля              505\n",
      "заняться высшим образованием              496\n",
      "автомобиль                                495\n",
      "сделка с подержанным автомобилем          489\n",
      "свой автомобиль                           480\n",
      "на покупку подержанного автомобиля        479\n",
      "автомобили                                478\n",
      "на покупку автомобиля                     472\n",
      "дополнительное образование                462\n",
      "приобретение автомобиля                   462\n",
      "сделка с автомобилем                      455\n",
      "высшее образование                        453\n",
      "получение дополнительного образования     447\n",
      "образование                               447\n",
      "получение образования                     443\n",
      "профильное образование                    436\n",
      "получение высшего образования             426\n",
      "заняться образованием                     412\n",
      "Name: purpose, dtype: int64\n"
     ]
    }
   ],
   "source": [
    "for row in data:\n",
    "    print(data[row].value_counts())"
   ]
  },
  {
   "cell_type": "markdown",
   "metadata": {},
   "source": [
    "### Первичные выводы\n",
    "Исходя из общего вида загруженной таблицы и информации о данных можно сделать следующие выводы:\n",
    "1. Отсутствует одинаковое количество значений в столбцах, информирующих о трудовом стаже и уровне дохода заемщика. Вероятно, здесь мы столкнулись с кредитами, не требующими подтверждения дохода.\n",
    "2. Присутствуют отрицательные значения в столбце \"days_employed\". Необходимо изучить, с чем это может быть связано.\n",
    "3. Присутствуют дубликаты в столбце \"education\". Введены данные в разных регистрах, нужно привести к нижнему регистру.\n",
    "4. Отсутствует идентификатор для столбца \"income_type\". Для увеличения скорости обработки информации следует создать столбец \"income_type_id\" и назначить идентификаторы каждому типу занятости.\n",
    "\n",
    "Изучив количественные данные содержимого каждого из столбцов можно сделать следующие выводы:\n",
    "\n",
    "#### столбец *children*\n",
    "Имеем распределение значений с явной тенденцией уменьшения количества детей от 0 до 5. Выделяются из этого ряда два значения: \"-1\" (47 значений) и \"20\" (76 значений).\n",
    "\n",
    "#### столбец *days_employed*\n",
    "Видим равномерное распределение разных чисел дней, непонятен пока только характер возникновения отрицательных значений. Для заполнения пропусков возьмем значения по модулю.\n",
    "\n",
    "#### столбец *dob_years*\n",
    "Из значений возраста заемщиков выбивается \"0\". При дальнейшей обработке заменим нулевые значения на средние показатели. Для того, чтобы данные были более информативны, дополнительно привяжем средний возраст к типу занятости.\n",
    "\n",
    "#### столбец *education*\n",
    "Необходимо привести значения столбца к нижнему регистру, таким образом получим на выходе 5 различных значений образования.\n",
    "\n",
    "#### столбец *education_id*\n",
    "Имеем 5 различных значений, соотнесем количество в каждом из них после работы с дубликатами в столбце *education*\n",
    "\n",
    "#### столбец *family_status*\n",
    "В столбце данные принимают 5 разных значений. Для единообразия следует привести к нижнему регистру название статуса \"Не женат / не замужем\"\n",
    "\n",
    "#### столбец *family_status_id*\n",
    "Имеем 5 разных значений, количество записей по каждому совпадает со количеством из столбца *family_status*. Изменение не требуется\n",
    "\n",
    "#### столбец *gender*\n",
    "Среди хначений столбца выделяется \"XNA\" в одной строке. Вероятно, здесь имеем дело с пропуском. Так как количество женщин среди заемщиков вдвое больше количества мужчин - заменим значение \"XNA\" на \"F\"\n",
    "\n",
    "#### столбец *income_type*\n",
    "В таблице присутствуют 8 типов занятости. Дубликатов и пропусков нет.\n",
    "\n",
    "#### столбец *debt*\n",
    "Уже на этапе первичного анализа видим, что количество недисциплинированных заемщиков мало относительно общей массы. Допускают просрочки по платежам порядка 8% заемщиков.\n",
    "\n",
    "#### столбец *total_income*\n",
    "Размер доходов различен для каждого заемщика, следует при дальнейшей обработке разделить уровень доходов на категории.\n",
    "\n",
    "#### столбец *purpose*\n",
    "Прослеживаются 4 основные категории целей кредитования:\n",
    "- недвижимость;\n",
    "- свадьба;\n",
    "- автомобиль;\n",
    "- образование. "
   ]
  },
  {
   "cell_type": "markdown",
   "metadata": {},
   "source": [
    "### Предобработка данных"
   ]
  },
  {
   "cell_type": "markdown",
   "metadata": {},
   "source": [
    "### Обработка пропусков"
   ]
  },
  {
   "cell_type": "markdown",
   "metadata": {},
   "source": [
    "Начнем обработку пропусков со столбца *dob_years*\n",
    "\n",
    "Мы имеем 101 строку со значением \"0\". Здесь, во избежание появления 40-летних студентов,  мы не можем просто взять среднее значение всего массива, нужно распределить пропуски еще по одному параметру. В качестве этого параметра используем тип занятости. Для каждого типа занятости найдем средний возраст из известных значений, округлим до целого числа и заменим получившейся величиной пустые строки."
   ]
  },
  {
   "cell_type": "code",
   "execution_count": 3,
   "metadata": {},
   "outputs": [
    {
     "data": {
      "text/plain": [
       "income_type\n",
       "безработный        38\n",
       "в декрете          39\n",
       "госслужащий        40\n",
       "компаньон          39\n",
       "пенсионер          59\n",
       "предприниматель    42\n",
       "сотрудник          39\n",
       "студент            22\n",
       "Name: dob_years, dtype: int64"
      ]
     },
     "execution_count": 3,
     "metadata": {},
     "output_type": "execute_result"
    }
   ],
   "source": [
    "mean_age_typeincome = data.groupby('income_type')['dob_years'].mean()\n",
    "mean_age_typeincome.astype(int)"
   ]
  },
  {
   "cell_type": "code",
   "execution_count": 4,
   "metadata": {},
   "outputs": [],
   "source": [
    "data.loc[(data['income_type'] == 'безработный') & (data['dob_years'] == 0), 'dob_years'] = mean_age_typeincome['безработный']\n",
    "data.loc[(data['income_type'] == 'в декрете') & (data['dob_years'] == 0), 'dob_years'] = mean_age_typeincome['в декрете']\n",
    "data.loc[(data['income_type'] == 'госслужащий') & (data['dob_years'] == 0), 'dob_years'] = mean_age_typeincome['госслужащий']\n",
    "data.loc[(data['income_type'] == 'компаньон') & (data['dob_years'] == 0), 'dob_years'] = mean_age_typeincome['компаньон']\n",
    "data.loc[(data['income_type'] == 'пенсионер') & (data['dob_years'] == 0), 'dob_years'] = mean_age_typeincome['пенсионер']\n",
    "data.loc[(data['income_type'] == 'предприниматель') & (data['dob_years'] == 0), 'dob_years'] = mean_age_typeincome['предприниматель']\n",
    "data.loc[(data['income_type'] == 'сотрудник') & (data['dob_years'] == 0), 'dob_years'] = mean_age_typeincome['сотрудник']\n",
    "data.loc[(data['income_type'] == 'студент') & (data['dob_years'] == 0), 'dob_years'] = mean_age_typeincome['студент']"
   ]
  },
  {
   "cell_type": "markdown",
   "metadata": {},
   "source": [
    "Далее, переходим к единственному пропуску, проявившемуся значением \"XNA\" в столбце *gender*.\n",
    "\n",
    "Заменим \"XNA\" на \"F\""
   ]
  },
  {
   "cell_type": "code",
   "execution_count": 5,
   "metadata": {},
   "outputs": [],
   "source": [
    "data['gender'] = data['gender'].replace('XNA', 'F')"
   ]
  },
  {
   "cell_type": "markdown",
   "metadata": {},
   "source": [
    "Рассмотрим ситуацию с пропусками значений в столбцах *days_employed* и *total_income*. Для этого найдем количество строк, в которых отсутствуют значения в обоих выше обозначенных столбцах."
   ]
  },
  {
   "cell_type": "code",
   "execution_count": 6,
   "metadata": {},
   "outputs": [
    {
     "data": {
      "text/plain": [
       "2174"
      ]
     },
     "execution_count": 6,
     "metadata": {},
     "output_type": "execute_result"
    }
   ],
   "source": [
    "len(data[(data['days_employed'].isna()) & (data['total_income'].isna())])"
   ]
  },
  {
   "cell_type": "markdown",
   "metadata": {},
   "source": [
    "Итак, в таблице есть 2174 строки, в которых одновременно отсутствует информация о стаже и ежемесячном доходе заемщиков. Делаем вывод, что данные о доходе и стаже отсутствуют в одних и тех же строках.\n",
    "Это может свидетельствовать о том, что данные кредиты были выданы без подтверждения дохода.\n",
    "\n",
    "Поэтому при заполнении пропусков в столбце *total_income* впишем вместо пустых значений \"0\", а при категоризации отнесем эти данные к категории \"доход не подтвержден\".\n",
    "\n",
    "Пустые же строки из столбца *days_employed* заполним медианными значениями для нескольких возрастных категорий. \n"
   ]
  },
  {
   "cell_type": "markdown",
   "metadata": {},
   "source": [
    "В первую очередь, избавимся от отрицательных значений в столбце *days_employed*. Для этого воспользуемся методом *abs()*"
   ]
  },
  {
   "cell_type": "code",
   "execution_count": 7,
   "metadata": {},
   "outputs": [],
   "source": [
    "data['days_employed'] = data['days_employed'].abs()"
   ]
  },
  {
   "cell_type": "markdown",
   "metadata": {},
   "source": [
    "Перейдем к заполнению пропусков в столбце *days_employed* Для того, чтобы заполнить пропуски, разделим всех заемщиков на возрастные группы и для каждой найдем медианный трудовой стаж. Чтобы определиться с возрастными группами, применим к столбцу *dob_years* метод *describe()*"
   ]
  },
  {
   "cell_type": "code",
   "execution_count": 8,
   "metadata": {
    "scrolled": true
   },
   "outputs": [
    {
     "data": {
      "text/plain": [
       "count    21525.00000\n",
       "mean        43.49822\n",
       "std         12.22943\n",
       "min         19.00000\n",
       "25%         34.00000\n",
       "50%         43.00000\n",
       "75%         53.00000\n",
       "max         75.00000\n",
       "Name: dob_years, dtype: float64"
      ]
     },
     "execution_count": 8,
     "metadata": {},
     "output_type": "execute_result"
    }
   ],
   "source": [
    "data['dob_years'].describe()"
   ]
  },
  {
   "cell_type": "markdown",
   "metadata": {},
   "source": [
    "Выяснилось, что возраст заемщиков находится в диапазоне от 19 до 75 лет. Разделим всех заемщиков на возрастные группы по квартилям 0 - 25% - 50% - 75% - 100%. Получим следующие возрастные категории:\n",
    "\n",
    "    19 - 34 лет\n",
    "    35 - 43 лет\n",
    "    44 - 53 лет\n",
    "    54 - 75 лет"
   ]
  },
  {
   "cell_type": "markdown",
   "metadata": {},
   "source": [
    "Напишем функцию, которая будет принимать на вход значение возраста из столбца *dob_years* и записывать в новый столбец *age_category* возрастную категорию заемщика"
   ]
  },
  {
   "cell_type": "code",
   "execution_count": 9,
   "metadata": {},
   "outputs": [],
   "source": [
    "def age_category(age):\n",
    "    if 19 <= age <= 34:\n",
    "        return '19 - 34'\n",
    "    if 35 <= age <= 43:\n",
    "        return '35 - 43'\n",
    "    if 44 <= age <= 53:\n",
    "        return '44 - 53'\n",
    "    if 54 <= age <= 75:\n",
    "        return '54 - 75'\n",
    "data['age_category'] = data['dob_years'].apply(age_category)"
   ]
  },
  {
   "cell_type": "markdown",
   "metadata": {},
   "source": [
    "Далее для каждой возрастной категории найдем медианный трудовой стаж:"
   ]
  },
  {
   "cell_type": "code",
   "execution_count": 10,
   "metadata": {},
   "outputs": [
    {
     "data": {
      "text/plain": [
       "age_category\n",
       "19 - 34      1178\n",
       "35 - 43      1838\n",
       "44 - 53      2509\n",
       "54 - 75    343033\n",
       "Name: days_employed, dtype: int64"
      ]
     },
     "execution_count": 10,
     "metadata": {},
     "output_type": "execute_result"
    }
   ],
   "source": [
    "median_days_employed = data.groupby('age_category')['days_employed'].median().astype(int)\n",
    "median_days_employed"
   ]
  },
  {
   "cell_type": "code",
   "execution_count": 36,
   "metadata": {},
   "outputs": [
    {
     "data": {
      "text/plain": [
       "<matplotlib.axes._subplots.AxesSubplot at 0x7f7a49d12890>"
      ]
     },
     "execution_count": 36,
     "metadata": {},
     "output_type": "execute_result"
    },
    {
     "data": {
      "image/png": "[encoded data removed]",
      "text/plain": [
       "<Figure size 432x288 with 1 Axes>"
      ]
     },
     "metadata": {
      "needs_background": "light"
     },
     "output_type": "display_data"
    }
   ],
   "source": [
    "data.days_employed.hist()"
   ]
  },
  {
   "cell_type": "markdown",
   "metadata": {},
   "source": [
    "Среди медианных значений трудового стажа выделяется возрастная группа \"54 - 75\". Значение для этой группы (343033), переведенное в годы трудового стажа дает результат в 939,8 лет.\n",
    "\n",
    "Что ж, вопросов к данным в столбце *days_employed* все больше. К отрицательным значениям стажа вдобавок получаем неправдоподобно большой опыт работы. Следует адресовать вопрос о формировании данных в этом столбце стороне, предоставившей данные.\n",
    "\n",
    "В запросе о проверке данных на корректность укажем, что именно вызвало вопросы, вероятно такой подход поможет быстрее локализовать место возникновения ошибки.\n",
    "\n",
    "В нашей же ситуации нет задачи оценить зависимость возврата кредита в срок от трудового стажа заемщика, поэтому заполним пропуски получившимися значениями медианного стажа по возрастам:"
   ]
  },
  {
   "cell_type": "code",
   "execution_count": 11,
   "metadata": {
    "scrolled": true
   },
   "outputs": [],
   "source": [
    "data.loc[(data['age_category'] == '19 - 34') & (data['days_employed'].isnull()), 'days_employed'] = median_days_employed['19 - 34']\n",
    "data.loc[(data['age_category'] == '35 - 43') & (data['days_employed'].isnull()), 'days_employed'] = median_days_employed['35 - 43']\n",
    "data.loc[(data['age_category'] == '44 - 53') & (data['days_employed'].isnull()), 'days_employed'] = median_days_employed['44 - 53']\n",
    "data.loc[(data['age_category'] == '54 - 75') & (data['days_employed'].isnull()), 'days_employed'] = median_days_employed['54 - 75']"
   ]
  },
  {
   "cell_type": "markdown",
   "metadata": {},
   "source": [
    "Последний столбец исходной таблицы, в котором остались пропуски, *total_income*\n",
    "\n",
    "Как описывалось выше, заполним пропуски нулевыми значениями"
   ]
  },
  {
   "cell_type": "code",
   "execution_count": 12,
   "metadata": {},
   "outputs": [],
   "source": [
    "data.loc[data['total_income'].isnull(), 'total_income'] = 0"
   ]
  },
  {
   "cell_type": "markdown",
   "metadata": {},
   "source": [
    "Все пропуски заполнены, посмотрим на общие данные исходной таблицы:"
   ]
  },
  {
   "cell_type": "code",
   "execution_count": 13,
   "metadata": {},
   "outputs": [
    {
     "name": "stdout",
     "output_type": "stream",
     "text": [
      "<class 'pandas.core.frame.DataFrame'>\n",
      "RangeIndex: 21525 entries, 0 to 21524\n",
      "Data columns (total 13 columns):\n",
      "children            21525 non-null int64\n",
      "days_employed       21525 non-null float64\n",
      "dob_years           21525 non-null float64\n",
      "education           21525 non-null object\n",
      "education_id        21525 non-null int64\n",
      "family_status       21525 non-null object\n",
      "family_status_id    21525 non-null int64\n",
      "gender              21525 non-null object\n",
      "income_type         21525 non-null object\n",
      "debt                21525 non-null int64\n",
      "total_income        21525 non-null float64\n",
      "purpose             21525 non-null object\n",
      "age_category        21525 non-null object\n",
      "dtypes: float64(3), int64(4), object(6)\n",
      "memory usage: 2.1+ MB\n"
     ]
    }
   ],
   "source": [
    "data.info()"
   ]
  },
  {
   "cell_type": "markdown",
   "metadata": {},
   "source": [
    "### Вывод"
   ]
  },
  {
   "cell_type": "markdown",
   "metadata": {},
   "source": [
    "В разделе \"Обработка пропусков\" были заполнены пропуски в столбцах *days_employed*, *dob_years*, *gender* и *total_income*\n",
    "\n",
    "В то же время в исходных данных была обнаружена следующая особенность: по порядка 10% заемщиков нет информации о стаже и уровне ежемесячного дохода. Было принято, что эти заемщики получили кредит без подтверждения уровня дохода. Эти заемщики были выделены в отдельную категорию по уровню ежемесячного дохода \"доход не подтвержден\""
   ]
  },
  {
   "cell_type": "markdown",
   "metadata": {},
   "source": [
    "### Замена типа данных"
   ]
  },
  {
   "cell_type": "markdown",
   "metadata": {},
   "source": [
    "Заменим тип данных в столбце *days_employed* исходной таблицы на integer, так как значение количества дней - целое число. Для этого применим метод *astype()*"
   ]
  },
  {
   "cell_type": "code",
   "execution_count": 14,
   "metadata": {
    "scrolled": true
   },
   "outputs": [],
   "source": [
    "data['days_employed'] = data['days_employed'].astype(int)"
   ]
  },
  {
   "cell_type": "markdown",
   "metadata": {},
   "source": [
    "Аналогично поступим с данными в столбце *dob_years*, так как количество лет подразумевает целочисленное значение\n",
    "\n",
    "После применения проверим результат, выведя общую информацию о таблице."
   ]
  },
  {
   "cell_type": "code",
   "execution_count": 15,
   "metadata": {},
   "outputs": [
    {
     "name": "stdout",
     "output_type": "stream",
     "text": [
      "<class 'pandas.core.frame.DataFrame'>\n",
      "RangeIndex: 21525 entries, 0 to 21524\n",
      "Data columns (total 13 columns):\n",
      "children            21525 non-null int64\n",
      "days_employed       21525 non-null int64\n",
      "dob_years           21525 non-null int64\n",
      "education           21525 non-null object\n",
      "education_id        21525 non-null int64\n",
      "family_status       21525 non-null object\n",
      "family_status_id    21525 non-null int64\n",
      "gender              21525 non-null object\n",
      "income_type         21525 non-null object\n",
      "debt                21525 non-null int64\n",
      "total_income        21525 non-null float64\n",
      "purpose             21525 non-null object\n",
      "age_category        21525 non-null object\n",
      "dtypes: float64(1), int64(6), object(6)\n",
      "memory usage: 2.1+ MB\n"
     ]
    }
   ],
   "source": [
    "data['dob_years'] = data['dob_years'].astype(int)\n",
    "data.info()"
   ]
  },
  {
   "cell_type": "markdown",
   "metadata": {},
   "source": [
    "### Вывод"
   ]
  },
  {
   "cell_type": "markdown",
   "metadata": {},
   "source": [
    "В разделе \"Замена типа данных\" был заменен тип данных в столбце *days_employed* с float64 на integer64 при помощи метода *astype()*\n",
    "Единственный столбец, содержащий вещественные числа после преобразования типов данных - *total_income*. Оставим в прежнем виде для большей точности. На следующих этапах содержимое подлежит категоризации по величине дохода.\n",
    "Для изменения типа данных был использован именно метод *astype()*, а не *to_numeric*, потому что он позволяет однозначно задать тип, к которому надо привести данные. *to_numeric* же лучше применим для преобразования строк в числа, в том числе с плавающей точкой"
   ]
  },
  {
   "cell_type": "markdown",
   "metadata": {},
   "source": [
    "### Обработка дубликатов"
   ]
  },
  {
   "cell_type": "markdown",
   "metadata": {},
   "source": [
    "На этапе первичного анализа были выявлены дубликаты в столбце *education*. Для того, чтобы их избежать приведем данные в столбце к нижнему регистру и проверим результат преобразования."
   ]
  },
  {
   "cell_type": "code",
   "execution_count": 16,
   "metadata": {
    "scrolled": true
   },
   "outputs": [
    {
     "data": {
      "text/plain": [
       "среднее                15233\n",
       "высшее                  5260\n",
       "неоконченное высшее      744\n",
       "начальное                282\n",
       "ученая степень             6\n",
       "Name: education, dtype: int64"
      ]
     },
     "execution_count": 16,
     "metadata": {},
     "output_type": "execute_result"
    }
   ],
   "source": [
    "data['education'] = data['education'].str.lower()\n",
    "data['education'].value_counts()"
   ]
  },
  {
   "cell_type": "markdown",
   "metadata": {},
   "source": [
    "После преобразования проверим таблицу на дубликаты"
   ]
  },
  {
   "cell_type": "code",
   "execution_count": 17,
   "metadata": {},
   "outputs": [
    {
     "data": {
      "text/plain": [
       "71"
      ]
     },
     "execution_count": 17,
     "metadata": {},
     "output_type": "execute_result"
    }
   ],
   "source": [
    "data.duplicated().sum()"
   ]
  },
  {
   "cell_type": "markdown",
   "metadata": {},
   "source": [
    "Имеем 71 дубликат. В исходной таблице не было ключевого столбца (например с id клиента), дубли в котором бы позволили точно говорить о том, что это один и тот же заемщик, а не совпадение данных у нескольких. За неимением этой информации и небольшим количеством дубликатов относительно общего числа строк, примем одинаковые строки за дубликаты и удалим их. Проверим результат, выведя общие данные о таблице"
   ]
  },
  {
   "cell_type": "code",
   "execution_count": 18,
   "metadata": {},
   "outputs": [
    {
     "name": "stdout",
     "output_type": "stream",
     "text": [
      "<class 'pandas.core.frame.DataFrame'>\n",
      "RangeIndex: 21454 entries, 0 to 21453\n",
      "Data columns (total 13 columns):\n",
      "children            21454 non-null int64\n",
      "days_employed       21454 non-null int64\n",
      "dob_years           21454 non-null int64\n",
      "education           21454 non-null object\n",
      "education_id        21454 non-null int64\n",
      "family_status       21454 non-null object\n",
      "family_status_id    21454 non-null int64\n",
      "gender              21454 non-null object\n",
      "income_type         21454 non-null object\n",
      "debt                21454 non-null int64\n",
      "total_income        21454 non-null float64\n",
      "purpose             21454 non-null object\n",
      "age_category        21454 non-null object\n",
      "dtypes: float64(1), int64(6), object(6)\n",
      "memory usage: 2.1+ MB\n"
     ]
    }
   ],
   "source": [
    "data = data.drop_duplicates().reset_index(drop=True)\n",
    "data.info()"
   ]
  },
  {
   "cell_type": "markdown",
   "metadata": {},
   "source": [
    "### Вывод"
   ]
  },
  {
   "cell_type": "markdown",
   "metadata": {},
   "source": [
    "На этапе удаления дубликатов было выявлено и обработано большое количество строк столбца *education*. Вероятней всего, это связано с ручным вводом информации. Для предотвращения появления подобных дубликатов в будущем имеет смысл на этапе заполнения данных предоставить сотруднику банка возможность выбора из выпадающего списка.\n",
    "\n",
    "Далее в таблице была найдена 71 дублирующаяся строка. Что составляет 0,33% от всего массива данных. Найденные строки были удалены при помощи метода *drop_duplicates()* со сбросом индексов"
   ]
  },
  {
   "cell_type": "markdown",
   "metadata": {},
   "source": [
    "### Лемматизация"
   ]
  },
  {
   "cell_type": "markdown",
   "metadata": {},
   "source": [
    "Вспомним, какие значения принимают строки столбца *purpose*"
   ]
  },
  {
   "cell_type": "code",
   "execution_count": 19,
   "metadata": {},
   "outputs": [
    {
     "data": {
      "text/plain": [
       "свадьба                                   791\n",
       "на проведение свадьбы                     768\n",
       "сыграть свадьбу                           765\n",
       "операции с недвижимостью                  675\n",
       "покупка коммерческой недвижимости         661\n",
       "операции с жильем                         652\n",
       "покупка жилья для сдачи                   651\n",
       "операции с коммерческой недвижимостью     650\n",
       "жилье                                     646\n",
       "покупка жилья                             646\n",
       "покупка жилья для семьи                   638\n",
       "строительство собственной недвижимости    635\n",
       "недвижимость                              633\n",
       "операции со своей недвижимостью           627\n",
       "строительство жилой недвижимости          624\n",
       "покупка недвижимости                      621\n",
       "покупка своего жилья                      620\n",
       "строительство недвижимости                619\n",
       "ремонт жилью                              607\n",
       "покупка жилой недвижимости                606\n",
       "на покупку своего автомобиля              505\n",
       "заняться высшим образованием              496\n",
       "автомобиль                                494\n",
       "сделка с подержанным автомобилем          486\n",
       "автомобили                                478\n",
       "на покупку подержанного автомобиля        478\n",
       "свой автомобиль                           478\n",
       "на покупку автомобиля                     471\n",
       "приобретение автомобиля                   461\n",
       "дополнительное образование                460\n",
       "сделка с автомобилем                      455\n",
       "высшее образование                        452\n",
       "образование                               447\n",
       "получение дополнительного образования     446\n",
       "получение образования                     442\n",
       "профильное образование                    436\n",
       "получение высшего образования             426\n",
       "заняться образованием                     408\n",
       "Name: purpose, dtype: int64"
      ]
     },
     "execution_count": 19,
     "metadata": {},
     "output_type": "execute_result"
    }
   ],
   "source": [
    "data['purpose'].value_counts()"
   ]
  },
  {
   "cell_type": "markdown",
   "metadata": {},
   "source": [
    "Импортируем библиотеку *pymystem3*\n",
    "\n",
    "Напишем функцию, которая будет собирать в новый столбец *purpose_lemmas* результаты лемматизации целей кредита для каждой записи"
   ]
  },
  {
   "cell_type": "code",
   "execution_count": 20,
   "metadata": {
    "scrolled": true
   },
   "outputs": [],
   "source": [
    " from pymystem3 import Mystem\n",
    "m = Mystem()\n",
    "from collections import Counter\n",
    " \n",
    "def purpose_lemmas(purpose):\n",
    "    lemma = ' '.join(m.lemmatize(purpose))\n",
    "    return lemma\n",
    "data['purpose_lemmas'] = data['purpose'].apply(purpose_lemmas)"
   ]
  },
  {
   "cell_type": "markdown",
   "metadata": {},
   "source": [
    "Итак, разделим все цели кредита на четыре категории:\n",
    "    - недвижимость;\n",
    "    - свадьба;\n",
    "    - автомобиль;\n",
    "    - образование.\n",
    "К категории \"недвижимость\" следует отнести два ключевых слова: *недвижимость* и *жилье* \n",
    "\n",
    "В переменную *purpose_cat* впишем слова, по которым далее будем категоризировать цели кредита. Создадим новый столбец *purpose_category* и впишем в него значения из переменной *purpose_cat*"
   ]
  },
  {
   "cell_type": "code",
   "execution_count": 21,
   "metadata": {},
   "outputs": [
    {
     "data": {
      "text/plain": [
       "недвижимость    6351\n",
       "жилье           4460\n",
       "автомобиль      4306\n",
       "образование     4013\n",
       "свадьба         2324\n",
       "Name: purpose_category, dtype: int64"
      ]
     },
     "execution_count": 21,
     "metadata": {},
     "output_type": "execute_result"
    }
   ],
   "source": [
    "def purpose_category(column):\n",
    "    if 'жилье' in column:\n",
    "        return 'жилье'\n",
    "    if 'недвижимость' in column:\n",
    "        return 'недвижимость'\n",
    "    if 'автомобиль' in column:\n",
    "        return 'автомобиль'\n",
    "    if 'образование' in column:\n",
    "        return 'образование'\n",
    "    if 'свадьба' in column:\n",
    "        return 'свадьба'\n",
    "data['purpose_category'] = data['purpose_lemmas'].apply(purpose_category)\n",
    "data['purpose_category'].value_counts()"
   ]
  },
  {
   "cell_type": "markdown",
   "metadata": {},
   "source": [
    "Для окончания обработки выделения категорий среди целей кредита осталось заменить в столбце *purpose_category* значения *жилье* на *недвижимость*"
   ]
  },
  {
   "cell_type": "code",
   "execution_count": 22,
   "metadata": {},
   "outputs": [
    {
     "data": {
      "text/plain": [
       "недвижимость    10811\n",
       "автомобиль       4306\n",
       "образование      4013\n",
       "свадьба          2324\n",
       "Name: purpose_category, dtype: int64"
      ]
     },
     "execution_count": 22,
     "metadata": {},
     "output_type": "execute_result"
    }
   ],
   "source": [
    "data['purpose_category'] = data['purpose_category'].replace('жилье', 'недвижимость')\n",
    "data['purpose_category'].value_counts()"
   ]
  },
  {
   "cell_type": "markdown",
   "metadata": {},
   "source": [
    "### Вывод"
   ]
  },
  {
   "cell_type": "markdown",
   "metadata": {},
   "source": [
    "В разделе \"Лемматизация\" были определены основные цели кредитования. Содержимое столбца *purpose* мы привели к леммам и разделили на отдельные слова, далее соотнесли леммы с основными целями кредитования.\n",
    "\n",
    "На выходе получили новый столбец *purpose_category* с категориями целей кредитования для дальнейшего анализа"
   ]
  },
  {
   "cell_type": "markdown",
   "metadata": {},
   "source": [
    "### Категоризация данных"
   ]
  },
  {
   "cell_type": "markdown",
   "metadata": {},
   "source": [
    "Так как по цели кредитования данные уже категоризированы выше, нам осталось проделать эту операцию со столбцами *children* и *total_income*\n",
    "\n",
    "В столбце *children* на начальном этапе были отмечены некорректные значения \"-1\" и \"20\". Суммарное количество строк с этими значениями = 123, что составляет порядка 0,5% от общего массива данных. Посмотрим, есть ли среди этих строк выделение из статистики по возврату кредитов в срок, и, если нет, то удалим их. "
   ]
  },
  {
   "cell_type": "code",
   "execution_count": 23,
   "metadata": {},
   "outputs": [
    {
     "data": {
      "text/plain": [
       "0    114\n",
       "1      9\n",
       "Name: debt, dtype: int64"
      ]
     },
     "execution_count": 23,
     "metadata": {},
     "output_type": "execute_result"
    }
   ],
   "source": [
    "child_error = data.loc[data['children'] == -1].append(data.loc[data['children'] == 20])\n",
    "child_error['debt'].value_counts()"
   ]
  },
  {
   "cell_type": "markdown",
   "metadata": {},
   "source": [
    "Получаем 9 просроченных кредитов из 123, что составляет 7,3%. Это даже меньше среднего показателя просрочек, что позволяет нам удалить строки со значениями \"-1\" и \"20\""
   ]
  },
  {
   "cell_type": "code",
   "execution_count": 24,
   "metadata": {},
   "outputs": [
    {
     "data": {
      "text/plain": [
       "0    14091\n",
       "1     4808\n",
       "2     2052\n",
       "3      330\n",
       "4       41\n",
       "5        9\n",
       "Name: children, dtype: int64"
      ]
     },
     "execution_count": 24,
     "metadata": {},
     "output_type": "execute_result"
    }
   ],
   "source": [
    "data = data.loc[(data['children'] != -1) & (data['children'] != 20)]\n",
    "data['children'].value_counts()"
   ]
  },
  {
   "cell_type": "markdown",
   "metadata": {},
   "source": [
    "Далее разделим заемщиков на категории по наличию и количеству детей в семье.\n",
    "По условию задания необходимо найти зависимость возврата кредита в срок от наличия детей, но пойдем по пути чуть более глубокого погружения и разделим заемщиков на 3 категории:\n",
    "    - 0 (нет детей);\n",
    "    - 1-2 (1 или 2 ребенка в семье);\n",
    "    - 3+ (многодетная семья)."
   ]
  },
  {
   "cell_type": "code",
   "execution_count": 25,
   "metadata": {},
   "outputs": [
    {
     "data": {
      "text/plain": [
       "0      14091\n",
       "1-2     6860\n",
       "3+       380\n",
       "Name: child_category, dtype: int64"
      ]
     },
     "execution_count": 25,
     "metadata": {},
     "output_type": "execute_result"
    }
   ],
   "source": [
    "def child_category(children):\n",
    "    if children == 0:\n",
    "        return '0'\n",
    "    if 1 <= children <= 2:\n",
    "        return '1-2'\n",
    "    return '3+'\n",
    "data['child_category'] = data['children'].apply(child_category)\n",
    "data['child_category'].value_counts()"
   ]
  },
  {
   "cell_type": "markdown",
   "metadata": {},
   "source": [
    "И, наконец, разделим данные о заемщиках на категории по уровню дохода. Для равномерного распределения воспользуемся методом *describe* среди тех, у кого доход подтвержден и по квартилям разделим доходы на следующие категории:\n",
    "    - низкий;\n",
    "    - средний;\n",
    "    - выше среднего;\n",
    "    - высокий.\n",
    "\n",
    "Кроме того, не забываем о категории \"доход не подтвержден\".\n",
    "\n",
    "Для отделения заемщиков с подтвержденным доходом запишем в переменную *confirmed_income* информацию обо всех, чей доход известен."
   ]
  },
  {
   "cell_type": "code",
   "execution_count": 26,
   "metadata": {},
   "outputs": [
    {
     "data": {
      "text/plain": [
       "count    1.924000e+04\n",
       "mean     1.674488e+05\n",
       "std      1.031051e+05\n",
       "min      2.066726e+04\n",
       "25%      1.030001e+05\n",
       "50%      1.450208e+05\n",
       "75%      2.034447e+05\n",
       "max      2.265604e+06\n",
       "Name: total_income, dtype: float64"
      ]
     },
     "execution_count": 26,
     "metadata": {},
     "output_type": "execute_result"
    }
   ],
   "source": [
    "confirmed_income = data.loc[data['total_income'] > 0]\n",
    "confirmed_income['total_income'].describe()"
   ]
  },
  {
   "cell_type": "code",
   "execution_count": 27,
   "metadata": {},
   "outputs": [
    {
     "data": {
      "text/plain": [
       "высокий                 4844\n",
       "средний                 4810\n",
       "низкий                  4810\n",
       "выше среднего           4776\n",
       "доход не подтвержден    2091\n",
       "Name: income_category, dtype: int64"
      ]
     },
     "execution_count": 27,
     "metadata": {},
     "output_type": "execute_result"
    }
   ],
   "source": [
    "def income_category(income):\n",
    "    if income == 0:\n",
    "        return 'доход не подтвержден'\n",
    "    if 0 < income <= 103000:\n",
    "        return 'низкий'\n",
    "    if 103000 < income <=145020:\n",
    "        return 'средний'\n",
    "    if 145020 < income <= 203000:\n",
    "        return 'выше среднего'\n",
    "    return 'высокий'\n",
    "data['income_category'] = data['total_income'].apply(income_category)\n",
    "data['income_category'].value_counts()"
   ]
  },
  {
   "cell_type": "markdown",
   "metadata": {},
   "source": [
    "Получаем равномерное разделение достоверно известного уровня дохода на 4 категории в зависимости от его величины и отдельно рассматриваемую категорию заемщиков, доход которых не подтвержден"
   ]
  },
  {
   "cell_type": "markdown",
   "metadata": {},
   "source": [
    "### Вывод"
   ]
  },
  {
   "cell_type": "markdown",
   "metadata": {},
   "source": [
    "В разделе \"Категоризация данных\" мы закончили разделение информации из исходной таблицы на категории по показателям, которые требуется проанализировать. Теперь для определения зависимости возврата кредита в срок от этих данных, нужно лишь построить сводные таблицы и сделать выводы."
   ]
  },
  {
   "cell_type": "markdown",
   "metadata": {},
   "source": [
    "### Результаты исследования"
   ]
  },
  {
   "cell_type": "markdown",
   "metadata": {},
   "source": [
    "Определим процент кредитов с просроченными платежами после удаления дубликатов и строк с некорректным количеством детей:"
   ]
  },
  {
   "cell_type": "code",
   "execution_count": 28,
   "metadata": {},
   "outputs": [
    {
     "data": {
      "text/plain": [
       "0    19599\n",
       "1     1732\n",
       "Name: debt, dtype: int64"
      ]
     },
     "execution_count": 28,
     "metadata": {},
     "output_type": "execute_result"
    }
   ],
   "source": [
    "data['debt'].value_counts()"
   ]
  },
  {
   "cell_type": "markdown",
   "metadata": {},
   "source": [
    "Итак, в среднем просрочка платежей происходит в **8,1%** случаев. Перейдем к анализу появления задолженности по кредиту среди разных категорий заемщиков"
   ]
  },
  {
   "cell_type": "markdown",
   "metadata": {},
   "source": [
    "- Есть ли зависимость между наличием детей и возвратом кредита в срок?"
   ]
  },
  {
   "cell_type": "markdown",
   "metadata": {},
   "source": [
    "Построим сводную таблицу со значениями количества просроченных кредитов для категорий заемщиков по количеству детей. Благодаря тому, что в значениях столбца *debt* были нули и единицы, а единицы обозначали невозврат в срок, параметр *values* вернет нам значение доли просроченных кредитов для каждой категории."
   ]
  },
  {
   "cell_type": "code",
   "execution_count": 29,
   "metadata": {},
   "outputs": [
    {
     "data": {
      "text/html": [
       "<div>\n",
       "<style scoped>\n",
       "    .dataframe tbody tr th:only-of-type {\n",
       "        vertical-align: middle;\n",
       "    }\n",
       "\n",
       "    .dataframe tbody tr th {\n",
       "        vertical-align: top;\n",
       "    }\n",
       "\n",
       "    .dataframe thead th {\n",
       "        text-align: right;\n",
       "    }\n",
       "</style>\n",
       "<table border=\"1\" class=\"dataframe\">\n",
       "  <thead>\n",
       "    <tr style=\"text-align: right;\">\n",
       "      <th></th>\n",
       "      <th>debt</th>\n",
       "    </tr>\n",
       "    <tr>\n",
       "      <th>child_category</th>\n",
       "      <th></th>\n",
       "    </tr>\n",
       "  </thead>\n",
       "  <tbody>\n",
       "    <tr>\n",
       "      <td>1-2</td>\n",
       "      <td>0.093003</td>\n",
       "    </tr>\n",
       "    <tr>\n",
       "      <td>3+</td>\n",
       "      <td>0.081579</td>\n",
       "    </tr>\n",
       "    <tr>\n",
       "      <td>0</td>\n",
       "      <td>0.075438</td>\n",
       "    </tr>\n",
       "  </tbody>\n",
       "</table>\n",
       "</div>"
      ],
      "text/plain": [
       "                    debt\n",
       "child_category          \n",
       "1-2             0.093003\n",
       "3+              0.081579\n",
       "0               0.075438"
      ]
     },
     "execution_count": 29,
     "metadata": {},
     "output_type": "execute_result"
    }
   ],
   "source": [
    "pivot_child = data.pivot_table(index = ['child_category'], values = 'debt').sort_values(by = 'debt', ascending = False)\n",
    "pivot_child"
   ]
  },
  {
   "cell_type": "markdown",
   "metadata": {},
   "source": [
    "### Вывод"
   ]
  },
  {
   "cell_type": "markdown",
   "metadata": {},
   "source": [
    "Наиболее рискованной категорией для выдачи кредитов по наличию и количеству детей являются семьи, в которых 1-2 ребенка. Доля нарушений графика платежей для них будет равна **9,3%**. Многодетные вносят платежи по кредитам в срок в соответствии с общей статистикой и количество недисциплинированных плательщиков составляет **8,2%**. Лучшие же заемщики для банка - те, у которых нет детей, здесь проблемных кредитов **7,5%**."
   ]
  },
  {
   "cell_type": "markdown",
   "metadata": {},
   "source": [
    "- Есть ли зависимость между семейным положением и возвратом кредита в срок?"
   ]
  },
  {
   "cell_type": "markdown",
   "metadata": {},
   "source": [
    "Построим сводную таблицу со значениями столбца *debt* по содержимому столбца *family_status*"
   ]
  },
  {
   "cell_type": "code",
   "execution_count": 30,
   "metadata": {},
   "outputs": [
    {
     "data": {
      "text/html": [
       "<div>\n",
       "<style scoped>\n",
       "    .dataframe tbody tr th:only-of-type {\n",
       "        vertical-align: middle;\n",
       "    }\n",
       "\n",
       "    .dataframe tbody tr th {\n",
       "        vertical-align: top;\n",
       "    }\n",
       "\n",
       "    .dataframe thead th {\n",
       "        text-align: right;\n",
       "    }\n",
       "</style>\n",
       "<table border=\"1\" class=\"dataframe\">\n",
       "  <thead>\n",
       "    <tr style=\"text-align: right;\">\n",
       "      <th></th>\n",
       "      <th>debt</th>\n",
       "    </tr>\n",
       "    <tr>\n",
       "      <th>family_status</th>\n",
       "      <th></th>\n",
       "    </tr>\n",
       "  </thead>\n",
       "  <tbody>\n",
       "    <tr>\n",
       "      <td>Не женат / не замужем</td>\n",
       "      <td>0.097639</td>\n",
       "    </tr>\n",
       "    <tr>\n",
       "      <td>гражданский брак</td>\n",
       "      <td>0.093130</td>\n",
       "    </tr>\n",
       "    <tr>\n",
       "      <td>женат / замужем</td>\n",
       "      <td>0.075606</td>\n",
       "    </tr>\n",
       "    <tr>\n",
       "      <td>в разводе</td>\n",
       "      <td>0.070648</td>\n",
       "    </tr>\n",
       "    <tr>\n",
       "      <td>вдовец / вдова</td>\n",
       "      <td>0.066246</td>\n",
       "    </tr>\n",
       "  </tbody>\n",
       "</table>\n",
       "</div>"
      ],
      "text/plain": [
       "                           debt\n",
       "family_status                  \n",
       "Не женат / не замужем  0.097639\n",
       "гражданский брак       0.093130\n",
       "женат / замужем        0.075606\n",
       "в разводе              0.070648\n",
       "вдовец / вдова         0.066246"
      ]
     },
     "execution_count": 30,
     "metadata": {},
     "output_type": "execute_result"
    }
   ],
   "source": [
    "pivot_family_status = data.pivot_table(index = ['family_status'], values = 'debt').sort_values(by = 'debt', ascending = False)\n",
    "pivot_family_status"
   ]
  },
  {
   "cell_type": "markdown",
   "metadata": {},
   "source": [
    "### Вывод"
   ]
  },
  {
   "cell_type": "markdown",
   "metadata": {},
   "source": [
    "На выходе получаем, что при разработке системы скоринга, стоит пристальное внимание направить на людей, чей семейный статус *не женат/не замужем* (**9,8%** просрочек) и *гражданский брак* (**9,3%** просрочек). В то время как для остальных категорий заемщиков показатели непроявления дисциплинированности при выплатах ниже среднего по всем кредитам. Для категории *женат/замужем* это **7,5%**, среди тех, кто *в разводе* - **7,1%**. И, наконец, самый низкий показатель видим в категории *вдовец/вдова* - **6,6%**"
   ]
  },
  {
   "cell_type": "markdown",
   "metadata": {},
   "source": [
    "- Есть ли зависимость между уровнем дохода и возвратом кредита в срок?"
   ]
  },
  {
   "cell_type": "markdown",
   "metadata": {},
   "source": [
    "Построим сводную таблицу со значениями столбца *debt* по содержимому столбца *income_category*"
   ]
  },
  {
   "cell_type": "code",
   "execution_count": 31,
   "metadata": {},
   "outputs": [
    {
     "data": {
      "text/html": [
       "<div>\n",
       "<style scoped>\n",
       "    .dataframe tbody tr th:only-of-type {\n",
       "        vertical-align: middle;\n",
       "    }\n",
       "\n",
       "    .dataframe tbody tr th {\n",
       "        vertical-align: top;\n",
       "    }\n",
       "\n",
       "    .dataframe thead th {\n",
       "        text-align: right;\n",
       "    }\n",
       "</style>\n",
       "<table border=\"1\" class=\"dataframe\">\n",
       "  <thead>\n",
       "    <tr style=\"text-align: right;\">\n",
       "      <th></th>\n",
       "      <th>debt</th>\n",
       "    </tr>\n",
       "    <tr>\n",
       "      <th>income_category</th>\n",
       "      <th></th>\n",
       "    </tr>\n",
       "  </thead>\n",
       "  <tbody>\n",
       "    <tr>\n",
       "      <td>выше среднего</td>\n",
       "      <td>0.088149</td>\n",
       "    </tr>\n",
       "    <tr>\n",
       "      <td>средний</td>\n",
       "      <td>0.086694</td>\n",
       "    </tr>\n",
       "    <tr>\n",
       "      <td>доход не подтвержден</td>\n",
       "      <td>0.081301</td>\n",
       "    </tr>\n",
       "    <tr>\n",
       "      <td>низкий</td>\n",
       "      <td>0.079626</td>\n",
       "    </tr>\n",
       "    <tr>\n",
       "      <td>высокий</td>\n",
       "      <td>0.070396</td>\n",
       "    </tr>\n",
       "  </tbody>\n",
       "</table>\n",
       "</div>"
      ],
      "text/plain": [
       "                          debt\n",
       "income_category               \n",
       "выше среднего         0.088149\n",
       "средний               0.086694\n",
       "доход не подтвержден  0.081301\n",
       "низкий                0.079626\n",
       "высокий               0.070396"
      ]
     },
     "execution_count": 31,
     "metadata": {},
     "output_type": "execute_result"
    }
   ],
   "source": [
    "pivot_income_value = data.pivot_table(index = ['income_category'], values = 'debt').sort_values(by = 'debt', ascending = False)\n",
    "pivot_income_value"
   ]
  },
  {
   "cell_type": "markdown",
   "metadata": {},
   "source": [
    "### Вывод"
   ]
  },
  {
   "cell_type": "markdown",
   "metadata": {},
   "source": [
    "Неожиданные результаты ожидают нас при просмотре результатов зависимости возникновения просрочек по кредиту от уровня доходов. Заемщики, имеющие уровень дохода *выше среднего* и *средний*, несмотря на большее количество имеющихся на руках денежных средств, чаще средних показателей допускают нарушения в сроках платежей (**8,8%** и **8,7** соответственно). В то время как люди с *низким* уровнем дохода не платят по кредиту в срок в **7,9%** случаев.\n",
    "\n",
    "Особняком здесь стоят заемщики с *высоким* доходом. Всего **7%** из них не вносят платежи вовремя."
   ]
  },
  {
   "cell_type": "markdown",
   "metadata": {},
   "source": [
    "- Как разные цели кредита влияют на его возврат в срок?"
   ]
  },
  {
   "cell_type": "markdown",
   "metadata": {},
   "source": [
    "Построим сводную таблицу со значениями столбца *debt* по содержимому столбца *purpose_category*"
   ]
  },
  {
   "cell_type": "code",
   "execution_count": 32,
   "metadata": {},
   "outputs": [
    {
     "data": {
      "text/html": [
       "<div>\n",
       "<style scoped>\n",
       "    .dataframe tbody tr th:only-of-type {\n",
       "        vertical-align: middle;\n",
       "    }\n",
       "\n",
       "    .dataframe tbody tr th {\n",
       "        vertical-align: top;\n",
       "    }\n",
       "\n",
       "    .dataframe thead th {\n",
       "        text-align: right;\n",
       "    }\n",
       "</style>\n",
       "<table border=\"1\" class=\"dataframe\">\n",
       "  <thead>\n",
       "    <tr style=\"text-align: right;\">\n",
       "      <th></th>\n",
       "      <th>debt</th>\n",
       "    </tr>\n",
       "    <tr>\n",
       "      <th>purpose_category</th>\n",
       "      <th></th>\n",
       "    </tr>\n",
       "  </thead>\n",
       "  <tbody>\n",
       "    <tr>\n",
       "      <td>автомобиль</td>\n",
       "      <td>0.093480</td>\n",
       "    </tr>\n",
       "    <tr>\n",
       "      <td>образование</td>\n",
       "      <td>0.092528</td>\n",
       "    </tr>\n",
       "    <tr>\n",
       "      <td>свадьба</td>\n",
       "      <td>0.079118</td>\n",
       "    </tr>\n",
       "    <tr>\n",
       "      <td>недвижимость</td>\n",
       "      <td>0.072551</td>\n",
       "    </tr>\n",
       "  </tbody>\n",
       "</table>\n",
       "</div>"
      ],
      "text/plain": [
       "                      debt\n",
       "purpose_category          \n",
       "автомобиль        0.093480\n",
       "образование       0.092528\n",
       "свадьба           0.079118\n",
       "недвижимость      0.072551"
      ]
     },
     "execution_count": 32,
     "metadata": {},
     "output_type": "execute_result"
    }
   ],
   "source": [
    "pivot_purpose = data.pivot_table(index = ['purpose_category'], values = 'debt').sort_values(by = 'debt', ascending = False)\n",
    "pivot_purpose"
   ]
  },
  {
   "cell_type": "markdown",
   "metadata": {},
   "source": [
    "### Вывод"
   ]
  },
  {
   "cell_type": "markdown",
   "metadata": {},
   "source": [
    "И, наконец, посмотрим на результаты поиска зависимости возврата в срок от цели кредитования. Здесь при выдаче кредита стоит обратить внимание на цели *автомобиль* и *образование* (по **9,3%** просрочек). Кредиты на *свадьбу* вовремя выплачиваются чуть лучше чем среднее значение - **7,9%**. А наименее проблемной категорией по цели кредитования становится *недвижимость* - **7,3%** просрочек."
   ]
  },
  {
   "cell_type": "markdown",
   "metadata": {},
   "source": [
    "### Общий вывод"
   ]
  },
  {
   "cell_type": "markdown",
   "metadata": {},
   "source": [
    "В данном проекте была обработана исходная таблица с данными. Заполнены пропущенные значения, удалены дубликаты, данные разделены по категориям.\n",
    "\n",
    "По результатам анализа можно сделать вывод, что идеальный заемщик для банка - это бездетный, находящийся в разводе человек с высоким уровнем дохода.\n",
    "\n"
   ]
  }
 ],
 "metadata": {
  "kernelspec": {
   "display_name": "Python 3",
   "language": "python",
   "name": "python3"
  },
  "language_info": {
   "codemirror_mode": {
    "name": "ipython",
    "version": 3
   },
   "file_extension": ".py",
   "mimetype": "text/x-python",
   "name": "python",
   "nbconvert_exporter": "python",
   "pygments_lexer": "ipython3",
   "version": "3.7.6"
  }
 },
 "nbformat": 4,
 "nbformat_minor": 2
}
